{
 "cells": [
  {
   "cell_type": "code",
   "execution_count": 2,
   "metadata": {
    "id": "OsUMUGay0Q0j"
   },
   "outputs": [],
   "source": [
    "import pandas as pd \n",
    "import matplotlib.pyplot as plt"
   ]
  },
  {
   "cell_type": "code",
   "execution_count": 6,
   "metadata": {
    "id": "nlCQA9Ss6dIG"
   },
   "outputs": [],
   "source": [
    "df = pd.read_csv(\"data.csv\")"
   ]
  },
  {
   "cell_type": "code",
   "execution_count": 8,
   "metadata": {
    "colab": {
     "base_uri": "https://localhost:8080/",
     "height": 1000
    },
    "id": "fcMJFOGR608t",
    "outputId": "b8d31423-1ecc-44f6-a02d-95f8cd08dc88",
    "scrolled": true
   },
   "outputs": [
    {
     "data": {
      "text/html": [
       "<div>\n",
       "<style scoped>\n",
       "    .dataframe tbody tr th:only-of-type {\n",
       "        vertical-align: middle;\n",
       "    }\n",
       "\n",
       "    .dataframe tbody tr th {\n",
       "        vertical-align: top;\n",
       "    }\n",
       "\n",
       "    .dataframe thead th {\n",
       "        text-align: right;\n",
       "    }\n",
       "</style>\n",
       "<table border=\"1\" class=\"dataframe\">\n",
       "  <thead>\n",
       "    <tr style=\"text-align: right;\">\n",
       "      <th></th>\n",
       "      <th>country</th>\n",
       "      <th>year</th>\n",
       "      <th>inflationrate</th>\n",
       "      <th>GDP_In_Billion_USD</th>\n",
       "    </tr>\n",
       "  </thead>\n",
       "  <tbody>\n",
       "    <tr>\n",
       "      <th>0</th>\n",
       "      <td>India</td>\n",
       "      <td>1980</td>\n",
       "      <td>0.11</td>\n",
       "      <td>186.33</td>\n",
       "    </tr>\n",
       "    <tr>\n",
       "      <th>1</th>\n",
       "      <td>India</td>\n",
       "      <td>1981</td>\n",
       "      <td>0.13</td>\n",
       "      <td>193.49</td>\n",
       "    </tr>\n",
       "    <tr>\n",
       "      <th>2</th>\n",
       "      <td>India</td>\n",
       "      <td>1982</td>\n",
       "      <td>0.08</td>\n",
       "      <td>200.72</td>\n",
       "    </tr>\n",
       "    <tr>\n",
       "      <th>3</th>\n",
       "      <td>India</td>\n",
       "      <td>1983</td>\n",
       "      <td>0.12</td>\n",
       "      <td>218.26</td>\n",
       "    </tr>\n",
       "    <tr>\n",
       "      <th>4</th>\n",
       "      <td>India</td>\n",
       "      <td>1984</td>\n",
       "      <td>0.08</td>\n",
       "      <td>212.16</td>\n",
       "    </tr>\n",
       "    <tr>\n",
       "      <th>5</th>\n",
       "      <td>India</td>\n",
       "      <td>1985</td>\n",
       "      <td>0.06</td>\n",
       "      <td>232.51</td>\n",
       "    </tr>\n",
       "    <tr>\n",
       "      <th>6</th>\n",
       "      <td>India</td>\n",
       "      <td>1986</td>\n",
       "      <td>0.09</td>\n",
       "      <td>248.99</td>\n",
       "    </tr>\n",
       "    <tr>\n",
       "      <th>7</th>\n",
       "      <td>India</td>\n",
       "      <td>1987</td>\n",
       "      <td>0.09</td>\n",
       "      <td>279.03</td>\n",
       "    </tr>\n",
       "    <tr>\n",
       "      <th>8</th>\n",
       "      <td>India</td>\n",
       "      <td>1988</td>\n",
       "      <td>0.09</td>\n",
       "      <td>296.59</td>\n",
       "    </tr>\n",
       "    <tr>\n",
       "      <th>9</th>\n",
       "      <td>India</td>\n",
       "      <td>1989</td>\n",
       "      <td>0.07</td>\n",
       "      <td>296.04</td>\n",
       "    </tr>\n",
       "    <tr>\n",
       "      <th>10</th>\n",
       "      <td>India</td>\n",
       "      <td>1990</td>\n",
       "      <td>0.09</td>\n",
       "      <td>320.98</td>\n",
       "    </tr>\n",
       "    <tr>\n",
       "      <th>11</th>\n",
       "      <td>India</td>\n",
       "      <td>1991</td>\n",
       "      <td>0.14</td>\n",
       "      <td>270.11</td>\n",
       "    </tr>\n",
       "    <tr>\n",
       "      <th>12</th>\n",
       "      <td>India</td>\n",
       "      <td>1992</td>\n",
       "      <td>0.12</td>\n",
       "      <td>288.21</td>\n",
       "    </tr>\n",
       "    <tr>\n",
       "      <th>13</th>\n",
       "      <td>India</td>\n",
       "      <td>1993</td>\n",
       "      <td>0.06</td>\n",
       "      <td>279.30</td>\n",
       "    </tr>\n",
       "    <tr>\n",
       "      <th>14</th>\n",
       "      <td>India</td>\n",
       "      <td>1994</td>\n",
       "      <td>0.10</td>\n",
       "      <td>327.28</td>\n",
       "    </tr>\n",
       "    <tr>\n",
       "      <th>15</th>\n",
       "      <td>India</td>\n",
       "      <td>1995</td>\n",
       "      <td>0.10</td>\n",
       "      <td>360.28</td>\n",
       "    </tr>\n",
       "    <tr>\n",
       "      <th>16</th>\n",
       "      <td>India</td>\n",
       "      <td>1996</td>\n",
       "      <td>0.09</td>\n",
       "      <td>392.90</td>\n",
       "    </tr>\n",
       "    <tr>\n",
       "      <th>17</th>\n",
       "      <td>India</td>\n",
       "      <td>1997</td>\n",
       "      <td>0.07</td>\n",
       "      <td>415.87</td>\n",
       "    </tr>\n",
       "    <tr>\n",
       "      <th>18</th>\n",
       "      <td>India</td>\n",
       "      <td>1998</td>\n",
       "      <td>0.13</td>\n",
       "      <td>421.35</td>\n",
       "    </tr>\n",
       "    <tr>\n",
       "      <th>19</th>\n",
       "      <td>India</td>\n",
       "      <td>1999</td>\n",
       "      <td>0.05</td>\n",
       "      <td>458.82</td>\n",
       "    </tr>\n",
       "    <tr>\n",
       "      <th>20</th>\n",
       "      <td>India</td>\n",
       "      <td>2000</td>\n",
       "      <td>0.04</td>\n",
       "      <td>468.39</td>\n",
       "    </tr>\n",
       "    <tr>\n",
       "      <th>21</th>\n",
       "      <td>India</td>\n",
       "      <td>2001</td>\n",
       "      <td>0.04</td>\n",
       "      <td>485.44</td>\n",
       "    </tr>\n",
       "    <tr>\n",
       "      <th>22</th>\n",
       "      <td>India</td>\n",
       "      <td>2002</td>\n",
       "      <td>0.04</td>\n",
       "      <td>514.94</td>\n",
       "    </tr>\n",
       "    <tr>\n",
       "      <th>23</th>\n",
       "      <td>India</td>\n",
       "      <td>2003</td>\n",
       "      <td>0.04</td>\n",
       "      <td>607.70</td>\n",
       "    </tr>\n",
       "    <tr>\n",
       "      <th>24</th>\n",
       "      <td>India</td>\n",
       "      <td>2004</td>\n",
       "      <td>0.04</td>\n",
       "      <td>709.15</td>\n",
       "    </tr>\n",
       "    <tr>\n",
       "      <th>25</th>\n",
       "      <td>India</td>\n",
       "      <td>2005</td>\n",
       "      <td>0.04</td>\n",
       "      <td>820.38</td>\n",
       "    </tr>\n",
       "    <tr>\n",
       "      <th>26</th>\n",
       "      <td>India</td>\n",
       "      <td>2006</td>\n",
       "      <td>0.06</td>\n",
       "      <td>940.26</td>\n",
       "    </tr>\n",
       "    <tr>\n",
       "      <th>27</th>\n",
       "      <td>India</td>\n",
       "      <td>2007</td>\n",
       "      <td>0.06</td>\n",
       "      <td>1216.74</td>\n",
       "    </tr>\n",
       "    <tr>\n",
       "      <th>28</th>\n",
       "      <td>India</td>\n",
       "      <td>2008</td>\n",
       "      <td>0.08</td>\n",
       "      <td>1198.90</td>\n",
       "    </tr>\n",
       "    <tr>\n",
       "      <th>29</th>\n",
       "      <td>India</td>\n",
       "      <td>2009</td>\n",
       "      <td>0.11</td>\n",
       "      <td>1341.89</td>\n",
       "    </tr>\n",
       "    <tr>\n",
       "      <th>30</th>\n",
       "      <td>India</td>\n",
       "      <td>2010</td>\n",
       "      <td>0.12</td>\n",
       "      <td>1675.62</td>\n",
       "    </tr>\n",
       "    <tr>\n",
       "      <th>31</th>\n",
       "      <td>India</td>\n",
       "      <td>2011</td>\n",
       "      <td>0.09</td>\n",
       "      <td>1823.05</td>\n",
       "    </tr>\n",
       "    <tr>\n",
       "      <th>32</th>\n",
       "      <td>India</td>\n",
       "      <td>2012</td>\n",
       "      <td>0.09</td>\n",
       "      <td>1827.64</td>\n",
       "    </tr>\n",
       "    <tr>\n",
       "      <th>33</th>\n",
       "      <td>India</td>\n",
       "      <td>2013</td>\n",
       "      <td>0.11</td>\n",
       "      <td>1856.72</td>\n",
       "    </tr>\n",
       "    <tr>\n",
       "      <th>34</th>\n",
       "      <td>India</td>\n",
       "      <td>2014</td>\n",
       "      <td>0.07</td>\n",
       "      <td>2039.13</td>\n",
       "    </tr>\n",
       "    <tr>\n",
       "      <th>35</th>\n",
       "      <td>India</td>\n",
       "      <td>2015</td>\n",
       "      <td>0.05</td>\n",
       "      <td>2103.59</td>\n",
       "    </tr>\n",
       "    <tr>\n",
       "      <th>36</th>\n",
       "      <td>India</td>\n",
       "      <td>2016</td>\n",
       "      <td>0.05</td>\n",
       "      <td>2294.80</td>\n",
       "    </tr>\n",
       "    <tr>\n",
       "      <th>37</th>\n",
       "      <td>India</td>\n",
       "      <td>2017</td>\n",
       "      <td>0.03</td>\n",
       "      <td>2651.47</td>\n",
       "    </tr>\n",
       "    <tr>\n",
       "      <th>38</th>\n",
       "      <td>India</td>\n",
       "      <td>2018</td>\n",
       "      <td>0.04</td>\n",
       "      <td>2702.93</td>\n",
       "    </tr>\n",
       "    <tr>\n",
       "      <th>39</th>\n",
       "      <td>India</td>\n",
       "      <td>2019</td>\n",
       "      <td>0.04</td>\n",
       "      <td>2831.55</td>\n",
       "    </tr>\n",
       "    <tr>\n",
       "      <th>40</th>\n",
       "      <td>India</td>\n",
       "      <td>2020</td>\n",
       "      <td>0.07</td>\n",
       "      <td>2667.69</td>\n",
       "    </tr>\n",
       "  </tbody>\n",
       "</table>\n",
       "</div>"
      ],
      "text/plain": [
       "   country  year  inflationrate  GDP_In_Billion_USD\n",
       "0    India  1980           0.11              186.33\n",
       "1    India  1981           0.13              193.49\n",
       "2    India  1982           0.08              200.72\n",
       "3    India  1983           0.12              218.26\n",
       "4    India  1984           0.08              212.16\n",
       "5    India  1985           0.06              232.51\n",
       "6    India  1986           0.09              248.99\n",
       "7    India  1987           0.09              279.03\n",
       "8    India  1988           0.09              296.59\n",
       "9    India  1989           0.07              296.04\n",
       "10   India  1990           0.09              320.98\n",
       "11   India  1991           0.14              270.11\n",
       "12   India  1992           0.12              288.21\n",
       "13   India  1993           0.06              279.30\n",
       "14   India  1994           0.10              327.28\n",
       "15   India  1995           0.10              360.28\n",
       "16   India  1996           0.09              392.90\n",
       "17   India  1997           0.07              415.87\n",
       "18   India  1998           0.13              421.35\n",
       "19   India  1999           0.05              458.82\n",
       "20   India  2000           0.04              468.39\n",
       "21   India  2001           0.04              485.44\n",
       "22   India  2002           0.04              514.94\n",
       "23   India  2003           0.04              607.70\n",
       "24   India  2004           0.04              709.15\n",
       "25   India  2005           0.04              820.38\n",
       "26   India  2006           0.06              940.26\n",
       "27   India  2007           0.06             1216.74\n",
       "28   India  2008           0.08             1198.90\n",
       "29   India  2009           0.11             1341.89\n",
       "30   India  2010           0.12             1675.62\n",
       "31   India  2011           0.09             1823.05\n",
       "32   India  2012           0.09             1827.64\n",
       "33   India  2013           0.11             1856.72\n",
       "34   India  2014           0.07             2039.13\n",
       "35   India  2015           0.05             2103.59\n",
       "36   India  2016           0.05             2294.80\n",
       "37   India  2017           0.03             2651.47\n",
       "38   India  2018           0.04             2702.93\n",
       "39   India  2019           0.04             2831.55\n",
       "40   India  2020           0.07             2667.69"
      ]
     },
     "execution_count": 8,
     "metadata": {},
     "output_type": "execute_result"
    }
   ],
   "source": [
    "df"
   ]
  },
  {
   "cell_type": "markdown",
   "metadata": {
    "id": "lMD4EdCv63y-"
   },
   "source": [
    "EDA"
   ]
  },
  {
   "cell_type": "code",
   "execution_count": 9,
   "metadata": {
    "colab": {
     "base_uri": "https://localhost:8080/",
     "height": 52
    },
    "id": "NKziAiGj60-s",
    "outputId": "48b8b972-2ef6-44d7-ca35-1d0badd0e5f1"
   },
   "outputs": [
    {
     "data": {
      "text/plain": [
       "<Figure size 1200x600 with 0 Axes>"
      ]
     },
     "execution_count": 9,
     "metadata": {},
     "output_type": "execute_result"
    },
    {
     "data": {
      "text/plain": [
       "<Figure size 1200x600 with 0 Axes>"
      ]
     },
     "metadata": {},
     "output_type": "display_data"
    }
   ],
   "source": [
    "plt.figure(figsize=(12,6))"
   ]
  },
  {
   "cell_type": "code",
   "execution_count": 10,
   "metadata": {
    "colab": {
     "base_uri": "https://localhost:8080/"
    },
    "id": "utOM-7md61Bk",
    "outputId": "a96eb9df-676a-45cf-b7f3-defb7ac980c2"
   },
   "outputs": [
    {
     "name": "stdout",
     "output_type": "stream",
     "text": [
      "<class 'pandas.core.frame.DataFrame'>\n",
      "RangeIndex: 41 entries, 0 to 40\n",
      "Data columns (total 4 columns):\n",
      " #   Column              Non-Null Count  Dtype  \n",
      "---  ------              --------------  -----  \n",
      " 0   country             41 non-null     object \n",
      " 1   year                41 non-null     int64  \n",
      " 2   inflationrate       41 non-null     float64\n",
      " 3   GDP_In_Billion_USD  41 non-null     float64\n",
      "dtypes: float64(2), int64(1), object(1)\n",
      "memory usage: 1.4+ KB\n"
     ]
    }
   ],
   "source": [
    "df.info()"
   ]
  },
  {
   "cell_type": "code",
   "execution_count": 11,
   "metadata": {
    "colab": {
     "base_uri": "https://localhost:8080/",
     "height": 206
    },
    "id": "u5SRKal061D4",
    "outputId": "2a8a58b8-da67-410c-a70d-ffdfba83f360"
   },
   "outputs": [
    {
     "data": {
      "text/html": [
       "<div>\n",
       "<style scoped>\n",
       "    .dataframe tbody tr th:only-of-type {\n",
       "        vertical-align: middle;\n",
       "    }\n",
       "\n",
       "    .dataframe tbody tr th {\n",
       "        vertical-align: top;\n",
       "    }\n",
       "\n",
       "    .dataframe thead th {\n",
       "        text-align: right;\n",
       "    }\n",
       "</style>\n",
       "<table border=\"1\" class=\"dataframe\">\n",
       "  <thead>\n",
       "    <tr style=\"text-align: right;\">\n",
       "      <th></th>\n",
       "      <th>country</th>\n",
       "      <th>year</th>\n",
       "      <th>inflationrate</th>\n",
       "      <th>GDP_In_Billion_USD</th>\n",
       "    </tr>\n",
       "  </thead>\n",
       "  <tbody>\n",
       "    <tr>\n",
       "      <th>0</th>\n",
       "      <td>India</td>\n",
       "      <td>1980</td>\n",
       "      <td>0.11</td>\n",
       "      <td>186.33</td>\n",
       "    </tr>\n",
       "    <tr>\n",
       "      <th>1</th>\n",
       "      <td>India</td>\n",
       "      <td>1981</td>\n",
       "      <td>0.13</td>\n",
       "      <td>193.49</td>\n",
       "    </tr>\n",
       "    <tr>\n",
       "      <th>2</th>\n",
       "      <td>India</td>\n",
       "      <td>1982</td>\n",
       "      <td>0.08</td>\n",
       "      <td>200.72</td>\n",
       "    </tr>\n",
       "    <tr>\n",
       "      <th>3</th>\n",
       "      <td>India</td>\n",
       "      <td>1983</td>\n",
       "      <td>0.12</td>\n",
       "      <td>218.26</td>\n",
       "    </tr>\n",
       "    <tr>\n",
       "      <th>4</th>\n",
       "      <td>India</td>\n",
       "      <td>1984</td>\n",
       "      <td>0.08</td>\n",
       "      <td>212.16</td>\n",
       "    </tr>\n",
       "  </tbody>\n",
       "</table>\n",
       "</div>"
      ],
      "text/plain": [
       "  country  year  inflationrate  GDP_In_Billion_USD\n",
       "0   India  1980           0.11              186.33\n",
       "1   India  1981           0.13              193.49\n",
       "2   India  1982           0.08              200.72\n",
       "3   India  1983           0.12              218.26\n",
       "4   India  1984           0.08              212.16"
      ]
     },
     "execution_count": 11,
     "metadata": {},
     "output_type": "execute_result"
    }
   ],
   "source": [
    "df = df.sort_values(by='year')\n",
    "df = df.reset_index(drop=True)\n",
    "df.head()"
   ]
  },
  {
   "cell_type": "code",
   "execution_count": 12,
   "metadata": {
    "colab": {
     "base_uri": "https://localhost:8080/",
     "height": 296
    },
    "id": "An_lvS3m7_9s",
    "outputId": "3be504f0-842b-420e-d638-cd4e66a48f91"
   },
   "outputs": [
    {
     "data": {
      "text/plain": [
       "Text(0, 0.5, 'inflationrate')"
      ]
     },
     "execution_count": 12,
     "metadata": {},
     "output_type": "execute_result"
    },
    {
     "data": {
      "image/png": "[encoded data removed]",
      "text/plain": [
       "<Figure size 640x480 with 1 Axes>"
      ]
     },
     "metadata": {},
     "output_type": "display_data"
    }
   ],
   "source": [
    "plt.bar(df['year'],df['inflationrate'])\n",
    "plt.xlabel(\"Year\")\n",
    "plt.ylabel(\"inflationrate\")\n",
    "#plt.xticks(rotation=45)\n",
    "#plt.savefig(\"img2.jpg\")"
   ]
  },
  {
   "cell_type": "code",
   "execution_count": 13,
   "metadata": {
    "colab": {
     "base_uri": "https://localhost:8080/",
     "height": 296
    },
    "id": "jACzkpO47a6q",
    "outputId": "2c56dca0-ffce-4c8d-8a80-1a373096b912"
   },
   "outputs": [
    {
     "data": {
      "text/plain": [
       "Text(0, 0.5, 'GDP_In_Billion_USD')"
      ]
     },
     "execution_count": 13,
     "metadata": {},
     "output_type": "execute_result"
    },
    {
     "data": {
      "image/png": "[encoded data removed]",
      "text/plain": [
       "<Figure size 640x480 with 1 Axes>"
      ]
     },
     "metadata": {},
     "output_type": "display_data"
    }
   ],
   "source": [
    "plt.plot(df.year,df.GDP_In_Billion_USD)\n",
    "plt.xlabel(\"Year\")\n",
    "plt.ylabel(\"GDP_In_Billion_USD\")\n",
    "#plt.xticks(rotation=80)\n",
    "#plt.savefig(\"img1.jpg\")\n"
   ]
  },
  {
   "cell_type": "markdown",
   "metadata": {
    "id": "BRzhoT_98UOy"
   },
   "source": [
    "Normalisation\n"
   ]
  },
  {
   "cell_type": "code",
   "execution_count": 14,
   "metadata": {
    "id": "mU5fZyUt8VZd"
   },
   "outputs": [],
   "source": [
    "pd.set_option('display.float_format', lambda x: '%.2f' % x)\n",
    "from sklearn.linear_model import LinearRegression"
   ]
  },
  {
   "cell_type": "code",
   "execution_count": 15,
   "metadata": {
    "colab": {
     "base_uri": "https://localhost:8080/",
     "height": 206
    },
    "id": "ZZvUWfpY8W8G",
    "outputId": "2817c827-7237-492d-c9a8-a967e50f92c0"
   },
   "outputs": [
    {
     "data": {
      "text/html": [
       "<div>\n",
       "<style scoped>\n",
       "    .dataframe tbody tr th:only-of-type {\n",
       "        vertical-align: middle;\n",
       "    }\n",
       "\n",
       "    .dataframe tbody tr th {\n",
       "        vertical-align: top;\n",
       "    }\n",
       "\n",
       "    .dataframe thead th {\n",
       "        text-align: right;\n",
       "    }\n",
       "</style>\n",
       "<table border=\"1\" class=\"dataframe\">\n",
       "  <thead>\n",
       "    <tr style=\"text-align: right;\">\n",
       "      <th></th>\n",
       "      <th>country</th>\n",
       "      <th>year</th>\n",
       "      <th>inflationrate</th>\n",
       "      <th>GDP_In_Billion_USD</th>\n",
       "    </tr>\n",
       "  </thead>\n",
       "  <tbody>\n",
       "    <tr>\n",
       "      <th>0</th>\n",
       "      <td>India</td>\n",
       "      <td>1980</td>\n",
       "      <td>0.11</td>\n",
       "      <td>186.33</td>\n",
       "    </tr>\n",
       "    <tr>\n",
       "      <th>1</th>\n",
       "      <td>India</td>\n",
       "      <td>1981</td>\n",
       "      <td>0.13</td>\n",
       "      <td>193.49</td>\n",
       "    </tr>\n",
       "    <tr>\n",
       "      <th>2</th>\n",
       "      <td>India</td>\n",
       "      <td>1982</td>\n",
       "      <td>0.08</td>\n",
       "      <td>200.72</td>\n",
       "    </tr>\n",
       "    <tr>\n",
       "      <th>3</th>\n",
       "      <td>India</td>\n",
       "      <td>1983</td>\n",
       "      <td>0.12</td>\n",
       "      <td>218.26</td>\n",
       "    </tr>\n",
       "    <tr>\n",
       "      <th>4</th>\n",
       "      <td>India</td>\n",
       "      <td>1984</td>\n",
       "      <td>0.08</td>\n",
       "      <td>212.16</td>\n",
       "    </tr>\n",
       "  </tbody>\n",
       "</table>\n",
       "</div>"
      ],
      "text/plain": [
       "  country  year  inflationrate  GDP_In_Billion_USD\n",
       "0   India  1980           0.11              186.33\n",
       "1   India  1981           0.13              193.49\n",
       "2   India  1982           0.08              200.72\n",
       "3   India  1983           0.12              218.26\n",
       "4   India  1984           0.08              212.16"
      ]
     },
     "execution_count": 15,
     "metadata": {},
     "output_type": "execute_result"
    }
   ],
   "source": [
    "df.head()"
   ]
  },
  {
   "cell_type": "code",
   "execution_count": 16,
   "metadata": {
    "id": "0Egacek58Yrd"
   },
   "outputs": [],
   "source": [
    "lr = LinearRegression()\n",
    "X = df[['year']]\n",
    "Y = df[['GDP_In_Billion_USD']]\n",
    "model = lr.fit(X, Y)"
   ]
  },
  {
   "cell_type": "code",
   "execution_count": 17,
   "metadata": {
    "id": "5jQoxpnh8fRm"
   },
   "outputs": [],
   "source": [
    "Pred_X = pd.DataFrame(list(range(1980,2023)),columns=['year'])\n",
    "Pred_X['Prediction'] = model.predict(Pred_X[['year']])"
   ]
  },
  {
   "cell_type": "code",
   "execution_count": 18,
   "metadata": {
    "colab": {
     "base_uri": "https://localhost:8080/",
     "height": 329
    },
    "id": "YaJWxtgH8y3A",
    "outputId": "4c66e278-03fb-42d5-adeb-c41a3aecfafe"
   },
   "outputs": [
    {
     "data": {
      "text/plain": [
       "(array([1970., 1980., 1990., 2000., 2010., 2020., 2030.]),\n",
       " [Text(0, 0, ''),\n",
       "  Text(0, 0, ''),\n",
       "  Text(0, 0, ''),\n",
       "  Text(0, 0, ''),\n",
       "  Text(0, 0, ''),\n",
       "  Text(0, 0, ''),\n",
       "  Text(0, 0, '')])"
      ]
     },
     "execution_count": 18,
     "metadata": {},
     "output_type": "execute_result"
    },
    {
     "data": {
      "image/png": "[encoded data removed]",
      "text/plain": [
       "<Figure size 640x480 with 1 Axes>"
      ]
     },
     "metadata": {},
     "output_type": "display_data"
    }
   ],
   "source": [
    "plt.plot(df.year,df.GDP_In_Billion_USD,label = \"GDP\")\n",
    "plt.plot(Pred_X.year,Pred_X.Prediction, label = \"Prediction\",color='orange')\n",
    "plt.legend()\n",
    "plt.xlabel(\"Year\")\n",
    "plt.ylabel(\"GDP_In_Billion_USD\")\n",
    "plt.xticks(rotation=45)\n",
    "#plt.savefig(\"img3.jpg\")"
   ]
  },
  {
   "cell_type": "code",
   "execution_count": 19,
   "metadata": {
    "id": "cZ4Jeaf99ETz"
   },
   "outputs": [],
   "source": [
    "compare_y_ypred = pd.DataFrame()\n",
    "compare_y_ypred['Input'] = Y.values.flatten()[0:41]\n",
    "compare_y_ypred[\"ModelPrediction\"] = Pred_X['Prediction'].values.flatten()[0:41]"
   ]
  },
  {
   "cell_type": "code",
   "execution_count": 20,
   "metadata": {
    "id": "TTj1e8oM9dDn"
   },
   "outputs": [],
   "source": [
    "compare_y_ypred.to_csv('linearRegression.csv', index=False)"
   ]
  },
  {
   "cell_type": "markdown",
   "metadata": {
    "id": "gfW0HOwN9kEd"
   },
   "source": [
    "Polynomial Model"
   ]
  },
  {
   "cell_type": "code",
   "execution_count": 21,
   "metadata": {
    "colab": {
     "base_uri": "https://localhost:8080/"
    },
    "id": "YYnJB6iA5vdl",
    "outputId": "0a377e01-5c10-4ac8-b2e2-6366c3eea127"
   },
   "outputs": [
    {
     "data": {
      "text/plain": [
       "LinearRegression()"
      ]
     },
     "execution_count": 21,
     "metadata": {},
     "output_type": "execute_result"
    }
   ],
   "source": [
    "from sklearn.preprocessing import PolynomialFeatures\n",
    "  \n",
    "poly = PolynomialFeatures(degree = 4)\n",
    "X_poly = poly.fit_transform(X)\n",
    "  \n",
    "poly.fit(X_poly, Y)\n",
    "lin = LinearRegression()\n",
    "lin.fit(X_poly, Y)"
   ]
  },
  {
   "cell_type": "code",
   "execution_count": 22,
   "metadata": {
    "colab": {
     "base_uri": "https://localhost:8080/",
     "height": 329
    },
    "id": "js6Uec5j5vdm",
    "outputId": "fa8ac0bd-a121-411a-9c32-d9de1bbd9147"
   },
   "outputs": [
    {
     "data": {
      "text/plain": [
       "Text(0, 0.5, 'GDP')"
      ]
     },
     "execution_count": 22,
     "metadata": {},
     "output_type": "execute_result"
    },
    {
     "data": {
      "image/png": "[encoded data removed]",
      "text/plain": [
       "<Figure size 640x480 with 1 Axes>"
      ]
     },
     "metadata": {},
     "output_type": "display_data"
    }
   ],
   "source": [
    "plt.plot(X, Y)\n",
    "plt.plot(X[0:41], lin.predict(poly.fit_transform(X[0:41])))\n",
    "plt.xticks(rotation=45)\n",
    "plt.xlabel(\"Year\")\n",
    "plt.ylabel(\"GDP\")\n",
    "#plt.savefig(\"img4.jpg\")\n"
   ]
  },
  {
   "cell_type": "code",
   "execution_count": 23,
   "metadata": {
    "id": "9NgV7icz-B7A"
   },
   "outputs": [],
   "source": [
    "compare_y_ypred = pd.DataFrame()\n",
    "compare_y_ypred['Input'] = Y.values.flatten()[0:41]\n",
    "compare_y_ypred[\"ModelPrediction\"] = lin.predict(poly.fit_transform(X))[0:41]"
   ]
  },
  {
   "cell_type": "code",
   "execution_count": 24,
   "metadata": {
    "id": "TsLlxPU9-KEc"
   },
   "outputs": [],
   "source": [
    "compare_y_ypred.head(40)\n",
    "compare_y_ypred.to_csv('polynomial.csv', index=False)"
   ]
  },
  {
   "cell_type": "markdown",
   "metadata": {
    "id": "_eknwovJ-QFk"
   },
   "source": [
    "Prediction"
   ]
  },
  {
   "cell_type": "code",
   "execution_count": 25,
   "metadata": {
    "colab": {
     "base_uri": "https://localhost:8080/",
     "height": 707
    },
    "id": "kwYzjhpM-OR3",
    "outputId": "fbbe8fce-6635-4e2c-f1f4-3ac2e80b53b7"
   },
   "outputs": [
    {
     "data": {
      "text/html": [
       "<div>\n",
       "<style scoped>\n",
       "    .dataframe tbody tr th:only-of-type {\n",
       "        vertical-align: middle;\n",
       "    }\n",
       "\n",
       "    .dataframe tbody tr th {\n",
       "        vertical-align: top;\n",
       "    }\n",
       "\n",
       "    .dataframe thead th {\n",
       "        text-align: right;\n",
       "    }\n",
       "</style>\n",
       "<table border=\"1\" class=\"dataframe\">\n",
       "  <thead>\n",
       "    <tr style=\"text-align: right;\">\n",
       "      <th></th>\n",
       "      <th>Year</th>\n",
       "      <th>pred</th>\n",
       "    </tr>\n",
       "  </thead>\n",
       "  <tbody>\n",
       "    <tr>\n",
       "      <th>0</th>\n",
       "      <td>2022</td>\n",
       "      <td>3415.80</td>\n",
       "    </tr>\n",
       "    <tr>\n",
       "      <th>1</th>\n",
       "      <td>2023</td>\n",
       "      <td>3630.32</td>\n",
       "    </tr>\n",
       "    <tr>\n",
       "      <th>2</th>\n",
       "      <td>2024</td>\n",
       "      <td>3853.31</td>\n",
       "    </tr>\n",
       "    <tr>\n",
       "      <th>3</th>\n",
       "      <td>2025</td>\n",
       "      <td>4084.89</td>\n",
       "    </tr>\n",
       "    <tr>\n",
       "      <th>4</th>\n",
       "      <td>2026</td>\n",
       "      <td>4325.21</td>\n",
       "    </tr>\n",
       "    <tr>\n",
       "      <th>5</th>\n",
       "      <td>2027</td>\n",
       "      <td>4574.40</td>\n",
       "    </tr>\n",
       "    <tr>\n",
       "      <th>6</th>\n",
       "      <td>2028</td>\n",
       "      <td>4832.60</td>\n",
       "    </tr>\n",
       "    <tr>\n",
       "      <th>7</th>\n",
       "      <td>2029</td>\n",
       "      <td>5099.94</td>\n",
       "    </tr>\n",
       "    <tr>\n",
       "      <th>8</th>\n",
       "      <td>2030</td>\n",
       "      <td>5376.55</td>\n",
       "    </tr>\n",
       "    <tr>\n",
       "      <th>9</th>\n",
       "      <td>2031</td>\n",
       "      <td>5662.58</td>\n",
       "    </tr>\n",
       "    <tr>\n",
       "      <th>10</th>\n",
       "      <td>2032</td>\n",
       "      <td>5958.17</td>\n",
       "    </tr>\n",
       "    <tr>\n",
       "      <th>11</th>\n",
       "      <td>2033</td>\n",
       "      <td>6263.44</td>\n",
       "    </tr>\n",
       "    <tr>\n",
       "      <th>12</th>\n",
       "      <td>2034</td>\n",
       "      <td>6578.54</td>\n",
       "    </tr>\n",
       "    <tr>\n",
       "      <th>13</th>\n",
       "      <td>2035</td>\n",
       "      <td>6903.60</td>\n",
       "    </tr>\n",
       "    <tr>\n",
       "      <th>14</th>\n",
       "      <td>2036</td>\n",
       "      <td>7238.77</td>\n",
       "    </tr>\n",
       "    <tr>\n",
       "      <th>15</th>\n",
       "      <td>2037</td>\n",
       "      <td>7584.17</td>\n",
       "    </tr>\n",
       "    <tr>\n",
       "      <th>16</th>\n",
       "      <td>2038</td>\n",
       "      <td>7939.95</td>\n",
       "    </tr>\n",
       "    <tr>\n",
       "      <th>17</th>\n",
       "      <td>2039</td>\n",
       "      <td>8306.25</td>\n",
       "    </tr>\n",
       "    <tr>\n",
       "      <th>18</th>\n",
       "      <td>2040</td>\n",
       "      <td>8683.20</td>\n",
       "    </tr>\n",
       "    <tr>\n",
       "      <th>19</th>\n",
       "      <td>2041</td>\n",
       "      <td>9070.94</td>\n",
       "    </tr>\n",
       "    <tr>\n",
       "      <th>20</th>\n",
       "      <td>2042</td>\n",
       "      <td>9469.62</td>\n",
       "    </tr>\n",
       "  </tbody>\n",
       "</table>\n",
       "</div>"
      ],
      "text/plain": [
       "    Year    pred\n",
       "0   2022 3415.80\n",
       "1   2023 3630.32\n",
       "2   2024 3853.31\n",
       "3   2025 4084.89\n",
       "4   2026 4325.21\n",
       "5   2027 4574.40\n",
       "6   2028 4832.60\n",
       "7   2029 5099.94\n",
       "8   2030 5376.55\n",
       "9   2031 5662.58\n",
       "10  2032 5958.17\n",
       "11  2033 6263.44\n",
       "12  2034 6578.54\n",
       "13  2035 6903.60\n",
       "14  2036 7238.77\n",
       "15  2037 7584.17\n",
       "16  2038 7939.95\n",
       "17  2039 8306.25\n",
       "18  2040 8683.20\n",
       "19  2041 9070.94\n",
       "20  2042 9469.62"
      ]
     },
     "execution_count": 25,
     "metadata": {},
     "output_type": "execute_result"
    }
   ],
   "source": [
    "pred=lin.predict(poly.fit_transform(pd.DataFrame(list(range(2022,2043)))))\n",
    "df1=pd.DataFrame(list(range(2022,2043)),columns=['Year'])\n",
    "df1[\"pred\"]=pred\n",
    "df1\n"
   ]
  },
  {
   "cell_type": "code",
   "execution_count": null,
   "metadata": {},
   "outputs": [],
   "source": []
  },
  {
   "cell_type": "code",
   "execution_count": null,
   "metadata": {},
   "outputs": [],
   "source": []
  },
  {
   "cell_type": "code",
   "execution_count": null,
   "metadata": {},
   "outputs": [],
   "source": []
  },
  {
   "cell_type": "code",
   "execution_count": null,
   "metadata": {},
   "outputs": [],
   "source": []
  },
  {
   "cell_type": "code",
   "execution_count": null,
   "metadata": {},
   "outputs": [],
   "source": []
  },
  {
   "cell_type": "code",
   "execution_count": null,
   "metadata": {},
   "outputs": [],
   "source": []
  }
 ],
 "metadata": {
  "colab": {
   "provenance": []
  },
  "kernelspec": {
   "display_name": "Python 3 (ipykernel)",
   "language": "python",
   "name": "python3"
  },
  "language_info": {
   "codemirror_mode": {
    "name": "ipython",
    "version": 3
   },
   "file_extension": ".py",
   "mimetype": "text/x-python",
   "name": "python",
   "nbconvert_exporter": "python",
   "pygments_lexer": "ipython3",
   "version": "3.9.13"
  }
 },
 "nbformat": 4,
 "nbformat_minor": 1
}
