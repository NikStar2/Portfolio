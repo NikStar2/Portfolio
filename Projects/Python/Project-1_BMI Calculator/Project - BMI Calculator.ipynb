{
 "cells": [
  {
   "cell_type": "markdown",
   "id": "c131715d",
   "metadata": {},
   "source": [
    "# BMI Calculator\n",
    "\n",
    "https://www.calculatorsoup.com/calculators/health/bmi-calculator.php\n",
    "\n"
   ]
  },
  {
   "cell_type": "markdown",
   "id": "1f3f6811",
   "metadata": {},
   "source": [
    "## Formula and Results of BMI\n",
    "\n",
    "#### BMI = (weight in kilograms) / (height in meters x height in meters)\n",
    "\n",
    "< 16.0\tSeverely Underweight\n",
    "\n",
    "16.0 - 18.4\tUnderweight\n",
    "\n",
    "18.5 - 24.9\tNormal\n",
    "\n",
    "25.0 - 29.9\tOverweight\n",
    "\n",
    "30.0 - 34.9\tModerately Obese\n",
    "\n",
    "35.0 - 39.9\tSeverely Obese\n",
    "\n",
    "Above 40.0 Morbidly Obese"
   ]
  },
  {
   "cell_type": "code",
   "execution_count": 2,
   "id": "ed4712f7",
   "metadata": {},
   "outputs": [
    {
     "name": "stdout",
     "output_type": "stream",
     "text": [
      "Enter you name: Nikhil Srinivasan\n",
      "Enter your weight in Kilograms: 80\n",
      "Enter your height in meter: 1.8\n",
      "24.69\n",
      "Nikhil Srinivasan, you are Normal Weight.\n"
     ]
    }
   ],
   "source": [
    "name = input(\"Enter you name: \")\n",
    "\n",
    "weight = int(input(\"Enter your weight in Kilograms: \"))\n",
    "\n",
    "height = float(input(\"Enter your height in meter: \"))\n",
    "\n",
    "BMI = (weight) / (height * height)\n",
    "\n",
    "\n",
    "print('%.2f' % BMI)\n",
    "\n",
    "if BMI>0:\n",
    "    if(BMI<16.0):\n",
    "        print(name +\", you are Severely Under Weight.\")\n",
    "    elif (BMI<=18.4):\n",
    "        print(name +\", you are Under Weight.\")\n",
    "    elif (BMI<=24.9):\n",
    "        print(name +\", you are Normal Weight.\")\n",
    "    elif (BMI<=29.9):\n",
    "        print(name +\", you are Over Weight.\")\n",
    "    elif (BMI<=34.9):\n",
    "        print(name +\", you are Moderately Obese.\")\n",
    "    elif (BMI<=39.9):\n",
    "        print(name +\", you are Severely Obese.\")\n",
    "    else:\n",
    "        print(name +\", you are Morbidly Obese.\")\n",
    "else:\n",
    "    print(\"Enter valid input\")"
   ]
  },
  {
   "cell_type": "code",
   "execution_count": null,
   "id": "5cff5811",
   "metadata": {},
   "outputs": [],
   "source": []
  }
 ],
 "metadata": {
  "kernelspec": {
   "display_name": "Python 3 (ipykernel)",
   "language": "python",
   "name": "python3"
  },
  "language_info": {
   "codemirror_mode": {
    "name": "ipython",
    "version": 3
   },
   "file_extension": ".py",
   "mimetype": "text/x-python",
   "name": "python",
   "nbconvert_exporter": "python",
   "pygments_lexer": "ipython3",
   "version": "3.9.13"
  }
 },
 "nbformat": 4,
 "nbformat_minor": 5
}
